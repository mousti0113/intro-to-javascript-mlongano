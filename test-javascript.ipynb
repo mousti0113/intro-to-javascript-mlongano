{
 "cells": [
  {
   "cell_type": "code",
   "execution_count": 48,
   "metadata": {},
   "outputs": [
    {
     "name": "stdout",
     "output_type": "stream",
     "text": [
      "Hello, World!\n"
     ]
    }
   ],
   "source": [
    "console.log('Hello, World!');\n",
    "\n"
   ]
  },
  {
   "attachments": {},
   "cell_type": "markdown",
   "metadata": {},
   "source": [
    "## esempi di come si comportano i tipi di dato primitivi"
   ]
  },
  {
   "cell_type": "code",
   "execution_count": 49,
   "metadata": {},
   "outputs": [
    {
     "name": "stdout",
     "output_type": "stream",
     "text": [
      "31\n",
      "30\n",
      "Hello\n",
      "He\n"
     ]
    }
   ],
   "source": [
    "\n",
    "\n",
    "{\n",
    "let age=30;\n",
    "let age1=age;\n",
    "age=31;\n",
    "console.log(age);\n",
    "console.log(age1);\n",
    "\n",
    "\n",
    "let immutable=\"Hello\";\n",
    "let copy=immutable.slice(0, 2);\n",
    "console.log(immutable);\n",
    "console.log(copy);\n",
    "\n",
    "\n",
    "\n",
    "}"
   ]
  },
  {
   "cell_type": "code",
   "execution_count": 50,
   "metadata": {},
   "outputs": [
    {
     "data": {
      "text/plain": [
       "\u001b[32m\"string\"\u001b[39m"
      ]
     },
     "execution_count": 50,
     "metadata": {},
     "output_type": "execute_result"
    }
   ],
   "source": [
    "typeof \"hello\";"
   ]
  },
  {
   "cell_type": "code",
   "execution_count": 51,
   "metadata": {},
   "outputs": [
    {
     "name": "stdout",
     "output_type": "stream",
     "text": [
      "true\n",
      "HELLO WORD\n",
      "12.9\n",
      "12.875878\n",
      "true\n",
      "5\n",
      "120\n",
      "[ 1, 2, 3, 4, 5 ]\n",
      "[ 1, 2, 3, 4, 5 ]\n"
     ]
    }
   ],
   "source": [
    "//console.log(0.2+0.1); \n",
    "console.log(1==1);\n",
    "let myString=\"hello word\";\n",
    "console.log(myString.toUpperCase());\n",
    "let number=12.875878;\n",
    "console.log(number.toFixed(1));\n",
    "console.log(number.toString())\n",
    "console.log(Array.isArray([1, 2]));\n",
    "let ar=[1,2,3,4,5];\n",
    "console.log(ar.length)\n",
    "let molti=1;\n",
    "for(let i=0; i<ar.length; i++){\n",
    "    molti*=ar[i];\n",
    "   \n",
    "}\n",
    "console.log(molti);\n",
    "console.log(ar);\n",
    "let squares=ar.map(x=>x+0);\n",
    "console.log(squares)\n",
    "let sum=ar.reduce();"
   ]
  },
  {
   "attachments": {},
   "cell_type": "markdown",
   "metadata": {},
   "source": [
    "# Funzioni in javascript \n",
    "le funzioni in JS sono oggetti di classe, cioè possono essere passate come argomenti, assegnate a variabili e restituite da altre funzioni.\n",
    "Esistono due modi per definire una funzione in JS:\n",
    "-dichiarazione/istruzione di funzione\n",
    "-espressione di funzione(due modi)\n",
    "### dichiarazione di funzione javascript [di istruzione]\n",
    "functionn nomeFunzione(parametro1, parametro2){\n",
    "    return valoreReturn;\n",
    "}\n",
    "### espressione di funzione[espressione che inizia con function()]\n",
    "const nomeFunzione = function(parametro1, parametro2) {\n",
    "    return valoreReturn;\n",
    "\n",
    "}\n",
    "### arrow function [espressione lambda]\n",
    "const nomeFunzione=(parametro1, parametro2)=> {\n",
    "    return;\n",
    "}\n",
    "const nomeFunzione= parametro=> espressioneRitorno;"
   ]
  },
  {
   "cell_type": "code",
   "execution_count": 5,
   "metadata": {},
   "outputs": [
    {
     "data": {
      "text/plain": [
       "\u001b[33m400\u001b[39m"
      ]
     },
     "execution_count": 5,
     "metadata": {},
     "output_type": "execute_result"
    }
   ],
   "source": [
    "function add(a, b){\n",
    "return a+b;\n",
    "}\n",
    "add(1, 2);\n",
    "add\n",
    "const add1= function(a, b) {\n",
    "return a+b;\n",
    "}\n",
    "add1(52, 85);\n",
    "\n",
    "const doppio=x=>x*2;\n",
    "doppio(200);"
   ]
  },
  {
   "attachments": {},
   "cell_type": "markdown",
   "metadata": {},
   "source": [
    "### closure\n",
    "una closure è una funzione che cattura le variabili dall'ambiente circostante in cui è stata creata\n",
    "function creaContatore(){\n",
    "    let contatore=0;\n",
    "    return function(){\n",
    "        return contatore++;\n",
    "    }\n",
    "    \n",
    "}\n",
    "### ritorna un oggetto di tipo function  \n"
   ]
  },
  {
   "cell_type": "code",
   "execution_count": 25,
   "metadata": {},
   "outputs": [
    {
     "name": "stdout",
     "output_type": "stream",
     "text": [
      "0\n",
      "0\n",
      "0\n"
     ]
    }
   ],
   "source": [
    "function creaContatore(){\n",
    "    let contatore=0;\n",
    "    return function(){\n",
    "        return contatore++;\n",
    "    };\n",
    "    \n",
    "} \n",
    "/*variabile che punta ad un oggetto */\n",
    "const contatore = creaContatore(); \n",
    "console.log(contatore());\n",
    "console.log(contatore());\n",
    "console.log(contatore());\n",
    "console.log(contatore());\n",
    "\n",
    "function creaContatore1(){\n",
    " return function(){\n",
    "        let contatore=0;\n",
    "        return contatore++;\n",
    "    };\n",
    "    \n",
    "} \n",
    "const contatore1 = creaContatore1(); \n",
    "console.log(contatore1());\n",
    "console.log(contatore1());\n",
    "console.log(contatore1());\n",
    "\n",
    "  "
   ]
  },
  {
   "attachments": {},
   "cell_type": "markdown",
   "metadata": {},
   "source": [
    "## oggetti in javascript \n",
    "gli oggetti in javascript sonno collezioni di coppie chivae-valore\n",
    "const oggetto={\n",
    "    <chiave1> : <valore1>;\n",
    "    <chiaveN> : <valoreN>\n",
    "\n",
    "};\n",
    "le chiavi sono sempre stringhe js permettere di togliere gli apici \n",
    "### l'accesso ai valori di una chiave: \n",
    "console.log(oggetto.chiave1);\n",
    "console.log(oggetto['chiave1']);\n"
   ]
  },
  {
   "attachments": {},
   "cell_type": "markdown",
   "metadata": {},
   "source": [
    "Operatore Spread\n",
    "L'operatore Spread può essere usato per espandere gli elementi di un array in un altro array o in\n",
    "parametri di funzione."
   ]
  },
  {
   "cell_type": "code",
   "execution_count": null,
   "metadata": {},
   "outputs": [],
   "source": [
    "let numbers = [1, 2, 3, 4, 5];\n",
    "// Usare reduce per sommare tutti gli elementi dell'array\n",
    "let sum = numbers.reduce(\n",
    "(accumulator, currentValue) => accumulator + currentValue,\n",
    "0,\n",
    ");\n",
    "console.log(sum); // Output: 15\n",
    "15\n",
    "\n",
    "function multiplyTs(...args: number[]) {\n",
    "    return args.reduce((a, b) => a * b); // vedere la funzione reduce descrtta in segui\n",
    "    }\n",
    "    function multiplyJs() {\n",
    "    // return Array.prototype.reduce.call(arguments, (a, b) => a * b);\n",
    "    // arguments è un oggetto 'simile' ad un array che contiene i parametri passati alla\n",
    "    return [...arguments].reduce((a, b) => a * b);\n",
    "    }\n",
    "    let numbersExtended = [...numbers, 2, 3, 4];\n",
    "    console.log(multiplyTs(...numbers, 10, 20));\n",
    "    console.log(multiplyJs(...numbersExtended));\n",
    "    console.log(multiplyJs(2, 1, 1));"
   ]
  },
  {
   "cell_type": "code",
   "execution_count": 1,
   "metadata": {},
   "outputs": [
    {
     "name": "stdout",
     "output_type": "stream",
     "text": [
      "[Arguments] { \"0\": 1, \"1\": 2, \"2\": 3, \"3\": 4 }\n",
      "4\n",
      "[ 1, 2, 3, 4, 5 ]\n",
      "false\n",
      "10\n",
      "20\n",
      "20\n"
     ]
    }
   ],
   "source": [
    "function esempioArgomenti(a){\n",
    "    console.log(arguments);\n",
    "    console.log(arguments.length);\n",
    "}\n",
    "esempioArgomenti(1, 2, 3, 4);\n",
    "const pippo=[1,2,3,4,5];\n",
    "const pluto=[...pippo];\n",
    "console.log(pippo);\n",
    "\n",
    "console.log(pippo===pluto);\n",
    "let a, b, rest;\n",
    "[a, b] = [10, 20];\n",
    "console.log(a);\n",
    "// Expected output: 10\n",
    "console.log(b);\n",
    "// Expected output: 20\n",
    "const {c,d}={c:10, d:20};\n",
    "console.log(d);"
   ]
  },
  {
   "cell_type": "code",
   "execution_count": null,
   "metadata": {},
   "outputs": [],
   "source": [
    "const oggetto = {\n",
    "    c:10,\n",
    "    d: {\n",
    "        e:20,\n",
    "        f:30\n",
    "\n",
    "    }\n",
    "};\n",
    "const oggetto2 ={...oggetto};\n"
   ]
  },
  {
   "cell_type": "code",
   "execution_count": null,
   "metadata": {},
   "outputs": [],
   "source": []
  }
 ],
 "metadata": {
  "kernelspec": {
   "display_name": "Deno",
   "language": "typescript",
   "name": "deno"
  },
  "language_info": {
   "file_extension": ".ts",
   "mimetype": "text/x.typescript",
   "name": "typescript",
   "nb_converter": "script",
   "pygments_lexer": "typescript",
   "version": "5.3.3"
  }
 },
 "nbformat": 4,
 "nbformat_minor": 4
}
